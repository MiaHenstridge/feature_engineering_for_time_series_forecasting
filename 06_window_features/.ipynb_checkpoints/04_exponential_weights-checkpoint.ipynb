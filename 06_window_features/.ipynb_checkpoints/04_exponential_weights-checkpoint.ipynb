{
 "cells": [
  {
   "cell_type": "markdown",
   "id": "55dcedc9-c79f-4b91-a5dd-b294297f75fd",
   "metadata": {},
   "source": [
    "# Adding weights to rolling window features\n",
    "Feature Engineering for Time Series Forecasting\n",
    "\n",
    "In this notebook we demonstrate how to add weights to rolling window features using Pandas and sktime.\n",
    "\n",
    "## Data set synopsis\n",
    "We will work with the hourly electricity demand dataset. It is the electricity demand for the state of Victora in Australia from 2002 to the start of 2015.\n",
    "\n",
    "For instructions on how to download, prepare, and store the dataset, refer to notebook number 4, in the folder \"01-Create-Datasets\" from this repo."
   ]
  },
  {
   "cell_type": "code",
   "execution_count": 1,
   "id": "ffb4d2ec-1433-4ea6-be1c-12bf58f09e1c",
   "metadata": {},
   "outputs": [],
   "source": [
    "import matplotlib.pyplot as plt\n",
    "import pandas as pd\n",
    "import numpy as np\n",
    "import seaborn as sns\n",
    "\n",
    "sns.set_context('talk')\n",
    "\n",
    "from functools import partial"
   ]
  },
  {
   "cell_type": "markdown",
   "id": "62b6ad78-ae69-4353-ad99-681f3c211092",
   "metadata": {},
   "source": [
    "## Load data"
   ]
  },
  {
   "cell_type": "code",
   "execution_count": 2,
   "id": "1f2c4530-1379-40ab-9699-587195486f90",
   "metadata": {},
   "outputs": [],
   "source": [
    "data = pd.read_csv('../datasets/victoria_electricity_demand.csv',\n",
    "                  usecols=['demand', 'temperature', 'date_time'],\n",
    "                  index_col=['date_time'],\n",
    "                  parse_dates=['date_time'])"
   ]
  },
  {
   "cell_type": "code",
   "execution_count": 3,
   "id": "702ac79e-74d2-448c-a2f5-dd05d3cc76a7",
   "metadata": {},
   "outputs": [],
   "source": [
    "# for this demo we'll use a subset of the data\n",
    "data = data.loc['2010':]"
   ]
  },
  {
   "cell_type": "code",
   "execution_count": 4,
   "id": "5085f1cc-39f0-470c-8524-d2659d442b2d",
   "metadata": {},
   "outputs": [
    {
     "data": {
      "text/html": [
       "<div>\n",
       "<style scoped>\n",
       "    .dataframe tbody tr th:only-of-type {\n",
       "        vertical-align: middle;\n",
       "    }\n",
       "\n",
       "    .dataframe tbody tr th {\n",
       "        vertical-align: top;\n",
       "    }\n",
       "\n",
       "    .dataframe thead th {\n",
       "        text-align: right;\n",
       "    }\n",
       "</style>\n",
       "<table border=\"1\" class=\"dataframe\">\n",
       "  <thead>\n",
       "    <tr style=\"text-align: right;\">\n",
       "      <th></th>\n",
       "      <th>demand</th>\n",
       "      <th>temperature</th>\n",
       "    </tr>\n",
       "    <tr>\n",
       "      <th>date_time</th>\n",
       "      <th></th>\n",
       "      <th></th>\n",
       "    </tr>\n",
       "  </thead>\n",
       "  <tbody>\n",
       "    <tr>\n",
       "      <th>2010-01-01 00:00:00</th>\n",
       "      <td>8314.448682</td>\n",
       "      <td>21.525</td>\n",
       "    </tr>\n",
       "    <tr>\n",
       "      <th>2010-01-01 01:00:00</th>\n",
       "      <td>8267.187296</td>\n",
       "      <td>22.400</td>\n",
       "    </tr>\n",
       "    <tr>\n",
       "      <th>2010-01-01 02:00:00</th>\n",
       "      <td>7394.528444</td>\n",
       "      <td>22.150</td>\n",
       "    </tr>\n",
       "    <tr>\n",
       "      <th>2010-01-01 03:00:00</th>\n",
       "      <td>6952.047520</td>\n",
       "      <td>21.800</td>\n",
       "    </tr>\n",
       "    <tr>\n",
       "      <th>2010-01-01 04:00:00</th>\n",
       "      <td>6867.199634</td>\n",
       "      <td>20.250</td>\n",
       "    </tr>\n",
       "  </tbody>\n",
       "</table>\n",
       "</div>"
      ],
      "text/plain": [
       "                          demand  temperature\n",
       "date_time                                    \n",
       "2010-01-01 00:00:00  8314.448682       21.525\n",
       "2010-01-01 01:00:00  8267.187296       22.400\n",
       "2010-01-01 02:00:00  7394.528444       22.150\n",
       "2010-01-01 03:00:00  6952.047520       21.800\n",
       "2010-01-01 04:00:00  6867.199634       20.250"
      ]
     },
     "execution_count": 4,
     "metadata": {},
     "output_type": "execute_result"
    }
   ],
   "source": [
    "data.head()"
   ]
  },
  {
   "cell_type": "markdown",
   "id": "5bfbe202-3d08-4fb7-90ca-f15a1ef31000",
   "metadata": {},
   "source": [
    "## Computing exponential weights for rolling window using Pandas"
   ]
  },
  {
   "cell_type": "markdown",
   "id": "c425a87a-4a2d-43a2-99ad-bd8b54ff0984",
   "metadata": {},
   "source": [
    "\n",
    "When using exponential weights it is more common to use expanding windows, but we will show how to use exponential weights with rolling windows for completeness. It will also come in handy when we want to compute custom metrics."
   ]
  },
  {
   "cell_type": "code",
   "execution_count": 5,
   "id": "eac6e20b-262a-45aa-b274-d657ca8f7473",
   "metadata": {},
   "outputs": [],
   "source": [
    "# create a copy of the data\n",
    "df = data.copy()"
   ]
  },
  {
   "cell_type": "markdown",
   "id": "7f084819-481d-4cf0-9246-1fa690e5fb74",
   "metadata": {},
   "source": [
    "Let's create a function that computes exponential weights for an input window size and `alpha` parameter.\n",
    "\n",
    "The weights should be: $[(1-\\alpha)^{W-1}, ..., (1-\\alpha)^2, (1-\\alpha), 1]$ where $W$ is the window size"
   ]
  },
  {
   "cell_type": "code",
   "execution_count": 6,
   "id": "6123f06c-05af-4745-aa60-e1b9d4a24088",
   "metadata": {},
   "outputs": [],
   "source": [
    "# compute exponential weights\n",
    "def exp_weights(alpha, window_size):\n",
    "    weights = np.ones(window_size)    # initial weights\n",
    "    for ix in range(window_size):\n",
    "        weights[ix] = (1-alpha)**(window_size-1-ix)\n",
    "    return weights"
   ]
  },
  {
   "cell_type": "code",
   "execution_count": 7,
   "id": "620965b2-3b22-4ee9-b405-c9e84f596248",
   "metadata": {},
   "outputs": [
    {
     "data": {
      "text/plain": [
       "array([0.56880009, 0.59873694, 0.63024941, 0.66342043, 0.6983373 ,\n",
       "       0.73509189, 0.77378094, 0.81450625, 0.857375  , 0.9025    ,\n",
       "       0.95      , 1.        ])"
      ]
     },
     "execution_count": 7,
     "metadata": {},
     "output_type": "execute_result"
    }
   ],
   "source": [
    "# check it works\n",
    "exp_weights(alpha=0.05, window_size=12)"
   ]
  },
  {
   "cell_type": "code",
   "execution_count": 8,
   "id": "85fa8aa2-6475-405f-b5be-73b6196a6d67",
   "metadata": {},
   "outputs": [
    {
     "name": "stdout",
     "output_type": "stream",
     "text": [
      "0.9025\n"
     ]
    }
   ],
   "source": [
    "# double check the second term\n",
    "print((1-0.05)*0.95)"
   ]
  },
  {
   "cell_type": "code",
   "execution_count": 9,
   "id": "12487c16-6623-4ae7-8df2-257938978131",
   "metadata": {},
   "outputs": [
    {
     "ename": "NameError",
     "evalue": "name 'partial' is not defined",
     "output_type": "error",
     "traceback": [
      "\u001b[1;31m---------------------------------------------------------------------------\u001b[0m",
      "\u001b[1;31mNameError\u001b[0m                                 Traceback (most recent call last)",
      "Cell \u001b[1;32mIn[9], line 6\u001b[0m\n\u001b[0;32m      3\u001b[0m     weights \u001b[38;5;241m=\u001b[39m exp_weights(alpha, window_size\u001b[38;5;241m=\u001b[39m\u001b[38;5;28mlen\u001b[39m(x))\n\u001b[0;32m      4\u001b[0m     \u001b[38;5;28;01mreturn\u001b[39;00m (weights \u001b[38;5;241m*\u001b[39m x)\u001b[38;5;241m.\u001b[39msum() \u001b[38;5;241m/\u001b[39m weights\u001b[38;5;241m.\u001b[39msum()\n\u001b[1;32m----> 6\u001b[0m exp_weighted_mean \u001b[38;5;241m=\u001b[39m \u001b[43mpartial\u001b[49m(exp_weighted_mean, alpha\u001b[38;5;241m=\u001b[39m\u001b[38;5;241m0.05\u001b[39m)\n",
      "\u001b[1;31mNameError\u001b[0m: name 'partial' is not defined"
     ]
    }
   ],
   "source": [
    "# define our own weighted mean function to pass to agg\n",
    "def exp_weighted_mean(x, alpha):\n",
    "    weights = exp_weights(alpha, window_size=len(x))\n",
    "    return (weights * x).sum() / weights.sum()\n",
    "\n",
    "exp_weighted_mean = partial(exp_weighted_mean, alpha=0.05)"
   ]
  },
  {
   "cell_type": "code",
   "execution_count": null,
   "id": "f6fafd14-ef4f-4409-9896-57460ae8329e",
   "metadata": {},
   "outputs": [],
   "source": [
    "result = (df['demand'].rolling(window=24*7)\n",
    "                    .agg(['mean', exp_weighted_mean])\n",
    "                     .shift(freq='1H'))\n",
    "\n",
    "result = result.add_prefix('demand_window_168_')\n",
    "\n",
    "result"
   ]
  },
  {
   "cell_type": "markdown",
   "id": "4f3544c8-271b-4b43-a0be-bca9d6f766e7",
   "metadata": {},
   "source": [
    "Let's join this back to the original dataframe."
   ]
  },
  {
   "cell_type": "code",
   "execution_count": null,
   "id": "77167404-18c0-4476-a892-cc7937d247b3",
   "metadata": {},
   "outputs": [],
   "source": [
    "df = df.join(result, how='left')\n",
    "\n",
    "df"
   ]
  },
  {
   "cell_type": "code",
   "execution_count": null,
   "id": "eb1f5999-f3e7-46bd-ba23-e2d73ca97ed8",
   "metadata": {},
   "outputs": [],
   "source": [
    "cols = ['demand', 'demand_window_168_mean', 'demand_window_168_exp_weighted_mean']\n",
    "\n",
    "ax = (df.iloc[-24*7*2:]           # look at the last 2 weeks of data\n",
    "         .loc[:, cols]           \n",
    "         .plot(figsize=(14,7)))\n",
    "\n",
    "ax.set_title('Rolling window mean of electricity demand')\n",
    "ax.set_ylabel('electricity demand')\n",
    "ax.set_xlabel('Time')"
   ]
  },
  {
   "cell_type": "code",
   "execution_count": null,
   "id": "ec77f5a4-159a-454c-af6c-72f0acc690d5",
   "metadata": {},
   "outputs": [],
   "source": []
  }
 ],
 "metadata": {
  "kernelspec": {
   "display_name": "Python 3 (ipykernel)",
   "language": "python",
   "name": "python3"
  },
  "language_info": {
   "codemirror_mode": {
    "name": "ipython",
    "version": 3
   },
   "file_extension": ".py",
   "mimetype": "text/x-python",
   "name": "python",
   "nbconvert_exporter": "python",
   "pygments_lexer": "ipython3",
   "version": "3.9.13"
  }
 },
 "nbformat": 4,
 "nbformat_minor": 5
}
